{
  "nbformat": 4,
  "nbformat_minor": 0,
  "metadata": {
    "colab": {
      "provenance": []
    },
    "kernelspec": {
      "name": "python3",
      "display_name": "Python 3"
    },
    "language_info": {
      "name": "python"
    }
  },
  "cells": [
    {
      "cell_type": "code",
      "execution_count": 1,
      "metadata": {
        "collapsed": true,
        "id": "E2o7ZE4i1tjY"
      },
      "outputs": [],
      "source": [
        "from collections import namedtuple, Counter, defaultdict\n",
        "import random\n",
        "import math\n",
        "import functools\n",
        "cache = functools.lru_cache(10**6)"
      ]
    },
    {
      "cell_type": "code",
      "source": [
        "class Game:\n",
        "  def actions(Self, state):\n",
        "    raise NotImplementedError\n",
        "\n",
        "  def result (Self, state, move):\n",
        "    raise NotImplementedError\n",
        "\n",
        "  def is_terminal(Self, state):\n",
        "    return not self.actions(state)\n",
        "\n",
        "  def utility(self, state, player):\n",
        "    raise NotImplementedError"
      ],
      "metadata": {
        "id": "9XHAG_ny4a0S"
      },
      "execution_count": 2,
      "outputs": []
    },
    {
      "cell_type": "code",
      "source": [
        "def play_game(game, strategies: dict, verbose=False):\n",
        "  state = game.intial\n",
        "  while not game.is_terminal(state):\n",
        "    player = state.to_move\n",
        "    move = strategies[player](game, state)\n",
        "    state = game.result(state,move)\n",
        "    if verbose:\n",
        "      print('Player', player, 'move:', move)\n",
        "      print(state)\n",
        "    return state"
      ],
      "metadata": {
        "id": "ZpoZlWZK6ni2"
      },
      "execution_count": 3,
      "outputs": []
    },
    {
      "cell_type": "code",
      "source": [
        "def minimax_search(game, state):\n",
        "  player = state.to_move\n",
        "  def max_value(state):\n",
        "    if game.is_terminal(state):\n",
        "      return game.utility(state, player), None\n",
        "    v, move = -infinity, None\n",
        "    for a in game.actions(state):\n",
        "      v2, _ = min_value(game.result(state, a))\n",
        "      if v2 > v:\n",
        "        v, move = v2, a\n",
        "    return v, move\n",
        "def min_value(state):\n",
        "  if game.is_terminal(state):\n",
        "    return game.utility(state, Iplayer), None\n",
        "  v, move = +infinity, None\n",
        "  for a in game.actions(state):\n",
        "    v2, _ = max_value(game.result(state, a))\n",
        "    if v2 < v:\n",
        "      v, move = v2, a\n",
        "  return v, move\n",
        "\n",
        "  return max_value(state)\n",
        "  infinity = math.inf"
      ],
      "metadata": {
        "id": "TOepk5oA8P4U"
      },
      "execution_count": 4,
      "outputs": []
    },
    {
      "cell_type": "code",
      "source": [
        "def alphabeta_search(game, state):\n",
        "  player = state.to_move\n",
        "  def max_value(state, alpha, beta):\n",
        "    if game.is_terminal(state):\n",
        "      return game.utility(state, player),\n",
        "    v, move = -infinity, None\n",
        "    for a in game.actions(state):\n",
        "      v2, _ = min_value(game.result(state, a), alpha, beta)\n",
        "      if v2 > v:\n",
        "        v, move = v2, a\n",
        "        alpha = max(alpha, v)\n",
        "      if v >= beta:\n",
        "        return v, move\n",
        "    return v, move\n",
        "def min_value(state, alpha, beta):\n",
        "  if game.is_terminal(state):\n",
        "    return game.utility(state, player), None\n",
        "    v, move = +infinity,\n",
        "    for a in game.actions(state):\n",
        "      v2, _ = max_value(game.result(state, a), alpha, beta)\n",
        "      if v2 < v:\n",
        "        v, move = v2, a\n",
        "        beta = min(beta, v)\n",
        "        if v <= alpha:\n",
        "          return v, move\n",
        "    return v, move\n",
        "  return min_value(state, -infinity, +infinity)"
      ],
      "metadata": {
        "id": "6zB4bk2C-HAk"
      },
      "execution_count": 5,
      "outputs": []
    },
    {
      "cell_type": "code",
      "source": [
        "class tictactoe(Game):\n",
        "  def __init__(self, height=3, width=3, k=3):\n",
        "    self.k = k\n",
        "    self.squares = {(x, y) for x in range(width) for y in range(height)}\n",
        "    self.initial = Board(height=height, width=width, to_move='X', utility=0)\n",
        "  def actions(self, board):\n",
        "    return self.squares - set(board)\n",
        "  def result(self, board, square):\n",
        "      player = board.to_move\n",
        "      board = board.new({square: player}, to_move=('O' if player == 'X' else 'X'))\n",
        "      win = k_in_row(board, player, square, self.k)\n",
        "      board.utility = (0 if not win else +1 if player == 'X' else -1)\n",
        "      return board\n",
        "  def utility(self, board, player):\n",
        "    return board.utility if player == 'X' else -board.utility\n",
        "  def is_terminal(self, board):\n",
        "    return board.utility != 0 or len(self.squares) == len(board)\n",
        "  def display(self, board):\n",
        "      print(board)\n",
        "  def k_in_row(board, player, square, k):\n",
        "    def in_row(x, y, dx, dy):\n",
        "      return 0 if board.get((x, y)) != player else 1 + in_row(x + dx, y + dy, dx, dy)\n",
        "    return any(in_row(*square, dx, dy) + in_row(*square, -dx, -dy) >= k\n",
        "               for (dx, dy) in ((0, 1), (1, 0), (1, 1), (1, -1)))"
      ],
      "metadata": {
        "id": "InMBCbb83Wv6"
      },
      "execution_count": 6,
      "outputs": []
    },
    {
      "cell_type": "code",
      "source": [
        "class Board(defaultdict):\n",
        "  empty = '.'\n",
        "  off = '#'\n",
        "  def __init__(self, width=8, height=8, to_move=None, **kwds):\n",
        "    self.__dict__.update(width=width, height=height, to_move=to_move, **kwds)\n",
        "  def new(self, changes: dict, **kwds) -> 'Board':\n",
        "    board = Board(width=self.width, height=self.height, **kwds)\n",
        "    board.update(self)\n",
        "    board.update(changes)\n",
        "    return board\n",
        "  def __missing__(self, loc):\n",
        "    x, y = loc\n",
        "    if 0 <= x < self.width and 0 <= y < self.height:\n",
        "      return self.empty\n",
        "    else:\n",
        "      return self.off\n",
        "  def __hash__(self):\n",
        "    return hash(tuple(sorted(self.items()))) + hash(self.to_move)\n",
        "  def __repr__(self):\n",
        "    def row(y): return ' '.join(self[x, y] for x in range(self.width))\n",
        "    return '\\n'.join(map(row, range(self.height))) +  '\\n'"
      ],
      "metadata": {
        "id": "bwykVqCK-Ry_"
      },
      "execution_count": 9,
      "outputs": []
    },
    {
      "cell_type": "code",
      "source": [
        "def random_player(game, state):\n",
        "  return random.choice(list(game.actions(state)))\n",
        "def player(sample_algorithm):\n",
        "  return lambda game, state: sample_algorithm(game, state)[1]"
      ],
      "metadata": {
        "id": "X9xXbu2wB5HD"
      },
      "execution_count": 10,
      "outputs": []
    }
  ]
}